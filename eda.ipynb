{
 "cells": [
  {
   "cell_type": "code",
   "execution_count": 21,
   "id": "c64e8b58",
   "metadata": {},
   "outputs": [],
   "source": [
    "from urllib.request import urlopen\n",
    "from pathlib import Path\n",
    "import json\n",
    "import pandas as pd\n",
    "import scipy as sp\n",
    "import matplotlib.pyplot as plt\n",
    "import seaborn as sns\n",
    "import plotly.express as px\n",
    "\n",
    "from IPython.display import display\n",
    "from plotly.offline import plot\n",
    "\n",
    "%load_ext rpy2.ipython"
   ]
  },
  {
   "cell_type": "markdown",
   "id": "a4ef1d60",
   "metadata": {},
   "source": [
    "# EDA of Opioid-Crisis-Adjacent Factors"
   ]
  },
  {
   "cell_type": "markdown",
   "id": "75fda3b0",
   "metadata": {},
   "source": [
    "## County-Level Drug-Related Deaths\n",
    "\n",
    "We take a look at drug poisoning mortality by county. The relevant dataset is cited in this [NYTimes Article](https://www.nytimes.com/interactive/2016/01/07/us/drug-overdose-deaths-in-the-us.html) and can be [found on the CDC website here](https://www.cdc.gov/nchs/data-visualization/drug-poisoning-mortality/)."
   ]
  },
  {
   "cell_type": "code",
   "execution_count": null,
   "id": "14a092b8",
   "metadata": {},
   "outputs": [],
   "source": [
    "# import county-level overdose counts \n",
    "od_path = Path('data/NCHS_-_Drug_Poisoning_Mortality_by_County__United_States.csv')\n",
    "county_od = pd.read_csv(od_path, dtype={'FIPS': str})\n",
    "\n",
    "# pad FIPS code to 5 digits \n",
    "county_od['FIPS'] = county_od['FIPS'].str.pad(5, side='left', fillchar='0')\n",
    "\n",
    "county_od.head()"
   ]
  },
  {
   "cell_type": "markdown",
   "id": "d762ef0e",
   "metadata": {},
   "source": [
    "There are a few limitations of the dataset: first, the death rate is not raw data and is the result of some modeling already.  **This suggests that we may need to propogate errors if we decide to include this data in our models**.  Second, the death count is based on drug overdoses across all categories of drugs, so it does not provide heroin- or opioid-specific data.\n",
    "\n",
    "However, given that opioids are responsible for a majority of fatal drug overdoses, taking a look at this dataset should still provide some insight into how opioid-specific overdoses are changing over time. "
   ]
  },
  {
   "cell_type": "code",
   "execution_count": null,
   "id": "31d4adea",
   "metadata": {},
   "outputs": [],
   "source": [
    "# check for missing values\n",
    "display('Number of missing values in each column:', \n",
    "        county_od.isnull().sum())\n",
    "\n",
    "# explore range of values\n",
    "display('Earliest year:', \n",
    "        county_od['Year'].min(), 'Latest year:', county_od['Year'].max())\n",
    "display('States included:', \n",
    "        county_od['State'].unique(), 'Number of states:', len(county_od['State'].unique())) \n",
    "display('Urban/Rural Categories:', \n",
    "        county_od['Urban/Rural Category'].unique())\n",
    "\n",
    "# are observations unique by FIPS and year? \n",
    "display('Number of duplicated observations by FIPS code and year:',\n",
    "        county_od[['FIPS', 'Year']].duplicated().sum())\n",
    "\n",
    "# are all years available for each county? \n",
    "display('Number of counties without 16 years of data:',\n",
    "        (county_od.groupby('FIPS')['Year'].count() != 16).sum())"
   ]
  },
  {
   "cell_type": "markdown",
   "id": "f22df944",
   "metadata": {},
   "source": [
    "The benefit of the death rates already having gone through some processing is that the dataset is very complete. In the following, we explore how death rates have changed by 'Urban/Rural Category'. "
   ]
  },
  {
   "cell_type": "code",
   "execution_count": null,
   "id": "fd33830a",
   "metadata": {},
   "outputs": [],
   "source": [
    "year = county_od.groupby('Year', as_index=False)['Model-based Death Rate'].mean()\n",
    "year['Urban/Rural Category'] = 'Overall'\n",
    "\n",
    "year_urban = county_od.groupby(['Year', 'Urban/Rural Category'], as_index=False)\n",
    "year_urban = year_urban['Model-based Death Rate'].mean()\n",
    "year_urban = pd.concat([year, year_urban], ignore_index=True)\n",
    "\n",
    "dash_spec = {type: (2,2) for type in county_od['Urban/Rural Category'].unique()}\n",
    "dash_spec['Overall'] = ''\n",
    "\n",
    "sns.relplot(x='Year', y='Model-based Death Rate',\n",
    "            hue='Urban/Rural Category', style='Urban/Rural Category',\n",
    "            dashes=dash_spec,\n",
    "            kind='line', \n",
    "            height=7, data=year_urban)\n",
    "plt.title('Average County-level Death Rate (per 100,000) by Urban/Rural Category',\n",
    "          pad = 20);\n"
   ]
  },
  {
   "cell_type": "markdown",
   "id": "1a7fdd3d",
   "metadata": {},
   "source": [
    "Interestingly, up until 2016, the growth of the average county-level death rate seems to be fairly comparable across urban/rural classifications. We also explore the growth of deaths by year and state. "
   ]
  },
  {
   "cell_type": "code",
   "execution_count": null,
   "id": "e9379040",
   "metadata": {
    "scrolled": false
   },
   "outputs": [],
   "source": [
    "# calculate average death rate (per 100,000) by year and state\n",
    "year_state = county_od.groupby(['Year', 'State'], as_index=False)\n",
    "year_state = year_state['Model-based Death Rate'].mean() \n",
    "\n",
    "yr_st_plot = sns.lmplot(x='Year', y='Model-based Death Rate', \n",
    "                        col='State', col_wrap=5, \n",
    "                        data=year_state)\n",
    "\n",
    "def annotate_lm(data, **kwargs):\n",
    "    mod = sp.stats.linregress(data['Year'], data['Model-based Death Rate'])\n",
    "    slope = mod.slope\n",
    "    intercept = mod.intercept\n",
    "    stderr = mod.stderr\n",
    "    \n",
    "    plt.annotate(f'Slope={slope:.2f},\\nIntercept={intercept:.2f},\\nStderr={stderr:.2f}',\n",
    "                 (2004,35))\n",
    "    \n",
    "yr_st_plot.map_dataframe(annotate_lm);"
   ]
  },
  {
   "cell_type": "markdown",
   "id": "b17cd036",
   "metadata": {},
   "source": [
    "As we may have expected, states like West Virginia and Pennsylvania stick out as having large, more erratic growth in death rates when compared to other states. Other states like Oregon and South Dakota have steadier, linear-looking growth. The growth in many states looks surprisingly linear. \n",
    "\n",
    "As our final work with this dataset on its own, we visualize the death rates on a map. This sets us up nicely for visualizing all other county-level data in the future. "
   ]
  },
  {
   "cell_type": "code",
   "execution_count": null,
   "id": "a04e395d",
   "metadata": {},
   "outputs": [],
   "source": [
    "# import county geometries\n",
    "counties_url = 'https://raw.githubusercontent.com/plotly/datasets/master/geojson-counties-fips.json'\n",
    "\n",
    "with urlopen(counties_url) as response:\n",
    "    counties = json.load(response)"
   ]
  },
  {
   "cell_type": "code",
   "execution_count": null,
   "id": "69248554",
   "metadata": {},
   "outputs": [],
   "source": [
    "# plot death rates by county on a map\n",
    "fig = px.choropleth(county_od, geojson=counties, locations='FIPS', \n",
    "                    color='Model-based Death Rate', \n",
    "                    color_continuous_scale='reds',\n",
    "                    range_color=[0, 40],\n",
    "                    animation_frame='Year',\n",
    "                    animation_group='FIPS',\n",
    "                    hover_name='County',\n",
    "                    hover_data=['Urban/Rural Category'],\n",
    "                    scope='usa')\n",
    "fig.update_traces(marker_line_width=0, marker_opacity=0.8)\n",
    "fig.update_geos(resolution=110, showsubunits=True, subunitcolor='black')\n",
    "\n",
    "plot(fig)"
   ]
  },
  {
   "cell_type": "markdown",
   "id": "56b8c577",
   "metadata": {},
   "source": [
    "As we can see, the crisis does seem to spread spatially, almost like a viral epidemic. "
   ]
  },
  {
   "cell_type": "markdown",
   "id": "71414cef",
   "metadata": {},
   "source": [
    "## Opioid Dispensing Rate Data\n",
    "\n",
    "Now let's take a look at the prescriptions data.  The data are scraped [from the CDC Dispensing Rate Maps pages](https://www.cdc.gov/drugoverdose/rxrate-maps/index.html).  The CDC sources these data from IQVIA, a healthcare data science company.  The data product, Xponent, is a sample approximately 50,400 non-hospital retail pharmacies, which dispense nearly 92% of all retail prescriptions in the US.  \n",
    "\n",
    "A prescription in this data set is defined as a days' supply  for 1 to 365 days with a known strength.  The rate is calculated as the projected  total number of opioid prescriptions dispensed annually at the county level over resident population obtained from the U.S. Census bureau.\n",
    "\n",
    "There is a known change in methodology circa 2017.  IQVIA changed the definition of projected prescription services from \"number of presciptions dispensed to bin\" to \"sold to the patient,\"  eliminating the effects of voided and reversed prescriptions and resulting in a 1.9% downward shift in measured opioid prescriptions dispensed.\n",
    "\n",
    "The rate is given as the number of retail opioid prescriptions every year per 100 people."
   ]
  },
  {
   "cell_type": "code",
   "execution_count": null,
   "id": "57253bb7",
   "metadata": {},
   "outputs": [],
   "source": [
    "prescription_path = Path('data/Prescription_Data.pkl')\n",
    "prescriptions = pd.read_pickle(prescription_path)\n",
    "prescriptions.head()"
   ]
  },
  {
   "cell_type": "markdown",
   "id": "cd60d332",
   "metadata": {},
   "source": [
    "### Completeness of the Data\n",
    "Let's take a look at how many missing values we have. This is all at the county level.  We can see that reporting used to be much less reliable prior to 2017, but now we don't see much missing data."
   ]
  },
  {
   "cell_type": "code",
   "execution_count": null,
   "id": "a6d78372",
   "metadata": {},
   "outputs": [],
   "source": [
    "display('Number of Counties Missing Data',\n",
    "        (prescriptions\n",
    "            .groupby('Year')['Opioid Dispensing Rate per 100']\n",
    "            .aggregate(lambda x: x.isnull().sum())\n",
    "        )\n",
    ")"
   ]
  },
  {
   "cell_type": "markdown",
   "id": "fd416d7b",
   "metadata": {},
   "source": [
    "### Trends in Dispensing Rate\n",
    "\n",
    "Looking at the distribution by year at the county level, we see a general downward trend starting around 2012, but the yearly distributions are right-skew with many outlier counties having high dispensing rates."
   ]
  },
  {
   "cell_type": "code",
   "execution_count": null,
   "id": "6913af84",
   "metadata": {},
   "outputs": [],
   "source": [
    "boxplot = prescriptions.boxplot(by='Year',\n",
    "                                column='Opioid Dispensing Rate per 100',\n",
    "                                figsize = (20,10),\n",
    "                                grid=False)"
   ]
  },
  {
   "cell_type": "markdown",
   "id": "8fe014cb",
   "metadata": {},
   "source": [
    "We can also look at the mean opioid dispensing rate on the state level over the years.  We see that most states follow the same trend as we saw in the boxplot, with a rise up untill the early 2010's followed by a more recent and sharp drop in prescriptions."
   ]
  },
  {
   "cell_type": "code",
   "execution_count": null,
   "id": "7f41857e",
   "metadata": {},
   "outputs": [],
   "source": [
    "year_state = prescriptions.groupby(['Year', 'State'])['Opioid Dispensing Rate per 100'].mean()\n",
    "year_state = year_state.reset_index()\n",
    "yr_st_plot = sns.lmplot(x='Year', y='Opioid Dispensing Rate per 100', \n",
    "                        col='State', col_wrap=4, \n",
    "                        data=year_state)\n",
    "\n",
    "def annotate_lm(data, **kwargs):\n",
    "    mod = sp.stats.linregress(data['Year'], data['Opioid Dispensing Rate per 100'])\n",
    "    slope = mod.slope\n",
    "    intercept = mod.intercept\n",
    "    stderr = mod.stderr\n",
    "    \n",
    "    plt.annotate('Slope={:.2f},\\nIntercept={:.2f},\\nStderr={:.2f}'.format(slope, intercept, stderr),\n",
    "                 (2007, 175))\n",
    "    \n",
    "yr_st_plot.map_dataframe(annotate_lm)"
   ]
  },
  {
   "cell_type": "markdown",
   "id": "1a242561",
   "metadata": {},
   "source": [
    "We can examine this phenomena on the county level more visually with the animated map below:"
   ]
  },
  {
   "cell_type": "code",
   "execution_count": null,
   "id": "bfbb3df5",
   "metadata": {},
   "outputs": [],
   "source": [
    "fig = px.choropleth(prescriptions, geojson=counties, locations='County FIPS Code', \n",
    "                    color='Opioid Dispensing Rate per 100', \n",
    "                    color_continuous_scale='viridis_r',\n",
    "                    range_color=[25, 200],\n",
    "                    animation_frame='Year',\n",
    "                    animation_group='County FIPS Code',\n",
    "                    hover_name='County',\n",
    "                    scope='usa')\n",
    "fig.update_traces(marker_line_width=0, marker_opacity=0.8)\n",
    "fig.update_geos(resolution=110, showsubunits=True, subunitcolor='black')\n",
    "print('Plotting')\n",
    "plot(fig)"
   ]
  },
  {
   "cell_type": "markdown",
   "id": "2d8b8ed0",
   "metadata": {},
   "source": [
    "The opiod dispension rate is going down sharply across pretty much all counties, but deaths from opioid use have increased. This is an intersesting relationship that warrants some more investigation."
   ]
  },
  {
   "cell_type": "markdown",
   "id": "a3eb06ff",
   "metadata": {},
   "source": [
    "We now join opioid prescription rate data to our drug overdose data from before."
   ]
  },
  {
   "cell_type": "code",
   "execution_count": null,
   "id": "305c9e9b",
   "metadata": {},
   "outputs": [],
   "source": [
    "pres_temp = prescriptions.rename({'County FIPS Code':'FIPS'}, axis=1)\n",
    "pres_temp = pres_temp[['Year', 'FIPS', 'Opioid Dispensing Rate per 100']]\n",
    "od_pres = county_od.merge(pres_temp, how='inner', on=['Year', 'FIPS'])\n",
    "od_pres.head()"
   ]
  },
  {
   "cell_type": "markdown",
   "id": "8d42c322",
   "metadata": {},
   "source": [
    "Now we can explore the relationship between opioid prescription rates and drug overdose rates:"
   ]
  },
  {
   "cell_type": "code",
   "execution_count": null,
   "id": "15822e89",
   "metadata": {},
   "outputs": [],
   "source": [
    "# convert opioid dispensing rate to be per 100,000\n",
    "od_pres['Opioid Dispensing Rate per 100k'] = od_pres['Opioid Dispensing Rate per 100'] * 1000\n",
    "\n",
    "# plot average overdose rate and average dispensing rate \n",
    "# by state and year\n",
    "year_state = od_pres.groupby(['Year', 'State'], as_index=False)\n",
    "year_state = year_state[['Opioid Dispensing Rate per 100k', 'Model-based Death Rate']].mean()\n",
    "\n",
    "# function to plot faceted data on two axes \n",
    "def plt_two_axes(x, y1, y2, data, **kwargs):\n",
    "    ax1 = plt.gca()\n",
    "    ax2 = ax1.twinx()\n",
    "\n",
    "    ax1.plot(data[x], data[y1], color='coral', label=y1)\n",
    "    ax1.set_ylabel(y1, color='coral')\n",
    "    ax1.tick_params(axis='y', colors='coral')\n",
    "\n",
    "    ax2.plot(data[x], data[y2], color='dodgerblue', label=y2)\n",
    "    ax2.set_ylabel(y2, color='dodgerblue')\n",
    "    ax2.tick_params(axis='y', colors='dodgerblue')\n",
    "\n",
    "sns.set_style('white')\n",
    "dual_plot = sns.FacetGrid(data=year_state, col='State', col_wrap=2, aspect=2, sharex=True, sharey=False)\n",
    "dual_plot.map_dataframe(plt_two_axes, x='Year', y1='Model-based Death Rate', \n",
    "                        y2='Opioid Dispensing Rate per 100k')\n",
    "for ax in dual_plot.axes.flatten():\n",
    "    ax.tick_params(labelbottom=True)\n",
    "    ax.set_xlabel('Year')\n",
    "plt.tight_layout()\n"
   ]
  },
  {
   "cell_type": "markdown",
   "id": "48e42537",
   "metadata": {},
   "source": [
    "As we may have expected from our previous work, there is not a simple relationship between opioid dispensing rates and drug overdose rates. For some states like Oregon, we see sharp increases in drug overdose rates even as dispensing rates are sharply decreasing. For many states, it looks like there was a lag between when opioid prescription rates peaked and when drug overdose rates started sharply increasing. "
   ]
  },
  {
   "cell_type": "markdown",
   "id": "f306a487",
   "metadata": {},
   "source": [
    "## US Mortality Micro-Data\n",
    "\n",
    "The National Center for Health Statistics (NCHS) provide mortality data at the individual level derived from death certificates filed in vital statistics offices of each State and the District of Columbia.  This data set contains a wealth of demographic data for each decedent, which include, but are not limited to factors leading to death, age, marital status, race, and education level.  In 2020, the decedents' industries of work is also included in the data.  The causes of death are coded according to the International Classification of Diseases (ICD).\n",
    "\n",
    "For privacy reasons, the publically available data does not include geographical identifiers.  **For this reason, we are concerned about how to incorporate this data-set with our spatial models.**\n",
    "\n",
    "As we have only recently finished the minimum required processing to read the data, only basic explorations of a subset of the data is included as the actual data set is very large.\n",
    "\n"
   ]
  },
  {
   "cell_type": "markdown",
   "id": "c5a301b8",
   "metadata": {},
   "source": [
    "### Subsetting the Data\n",
    "\n",
    "We restrict our view to the scope of the previously explored data sets.\n",
    "\n",
    "Drug overdose deaths were identified in the National Vital Statistics System multiple cause-of-death mortality files* by using International Classification of Diseases, Tenth Revision (ICD-10) underlying cause-of-death codes:\n",
    "* X40–44 (unintentional)\n",
    "* X60–64 (suicide)\n",
    "* X85 (homicide)\n",
    "* Y10–14 (undetermined intent)  \n",
    "\n",
    "Drug categories were defined using the following ICD-10 multiple cause-of-death codes: \n",
    "\n",
    "* T40.1 poisoning by and adverse effect of heroin  \n",
    "* T40.2 poisoning by, adverse effect of and underdosing of other opioids\n",
    "* T40.3 poisoning by, adverse effect of and underdosing of methadone\n",
    "* T40.4 synthetic opioids other than methadone\n",
    "* T40.5 cocaine\n",
    "* T43.6 psychostimulants with abuse potential\n",
    "\n",
    "\n",
    "Categories are not mutually exclusive."
   ]
  },
  {
   "cell_type": "code",
   "execution_count": null,
   "id": "e656974f",
   "metadata": {},
   "outputs": [],
   "source": [
    "drug_related_deaths = pd.read_pickle(Path('data/drug_related_deaths.pkl'))"
   ]
  },
  {
   "cell_type": "markdown",
   "id": "386985be",
   "metadata": {},
   "source": [
    "### Visualizing Trends in Subpopulations\n",
    "\n",
    "We provide some basic time series of the absolute number of deaths per month within certain subpopulations.  There is a comparison problem between the subgroups since we have not normalized the data with national-level demographics, but we plan on resolving this in the near future.  The overall trend of growth across all subpopulations shown is certainly concerning, however."
   ]
  },
  {
   "cell_type": "markdown",
   "id": "68f42458",
   "metadata": {},
   "source": [
    "#### Total Monthly Drug-Related Deaths"
   ]
  },
  {
   "cell_type": "code",
   "execution_count": null,
   "id": "8a7a6ab9",
   "metadata": {},
   "outputs": [],
   "source": [
    "fig = px.line(\n",
    "    data_frame=(\n",
    "        drug_related_deaths\n",
    "        .groupby('time')\n",
    "        .size()\n",
    "        .reset_index()\n",
    "        .rename(columns={0: 'number_of_deaths'})\n",
    "    ),\n",
    "    x='time',\n",
    "    y='number_of_deaths',\n",
    "    range_y=[0,7500]\n",
    ")\n",
    "fig.show()"
   ]
  },
  {
   "cell_type": "markdown",
   "id": "76ff6f1a",
   "metadata": {},
   "source": [
    "#### Monthly Drug-Related Deaths by Age Group"
   ]
  },
  {
   "cell_type": "code",
   "execution_count": null,
   "id": "550fea45",
   "metadata": {},
   "outputs": [],
   "source": [
    "fig = px.line(\n",
    "    data_frame=(\n",
    "        drug_related_deaths\n",
    "        .groupby(['time', 'age'], as_index=False)\n",
    "        .size()\n",
    "        .rename(columns={'size':'Number of Deaths'})\n",
    "    ),\n",
    "    x='time',\n",
    "    y='Number of Deaths',\n",
    "    color='age',\n",
    "    range_y=[0,2000]\n",
    ")\n",
    "fig.show()"
   ]
  },
  {
   "cell_type": "markdown",
   "id": "ec4d5f4e",
   "metadata": {},
   "source": [
    "#### Monthly Drug-Related Deaths by Education"
   ]
  },
  {
   "cell_type": "code",
   "execution_count": null,
   "id": "b1ba1760",
   "metadata": {},
   "outputs": [],
   "source": [
    "fig = px.line(\n",
    "    data_frame=(\n",
    "        drug_related_deaths\n",
    "        .groupby(['time', 'education'], as_index=False)\n",
    "        .size()\n",
    "        .rename(columns={'size':'Number of Deaths'})\n",
    "    ),\n",
    "    x='time',\n",
    "    y='Number of Deaths',\n",
    "    color='education',\n",
    "    range_y=[0,4000]\n",
    ")\n",
    "fig.show()"
   ]
  },
  {
   "cell_type": "markdown",
   "id": "aa92d192",
   "metadata": {},
   "source": [
    "#### Monthly Drug-Related Deaths by Race\n",
    "\n",
    "In this particular coding of race (there are several in the data set), Hispanics are classified as White.  We are working on disaggregating this information."
   ]
  },
  {
   "cell_type": "code",
   "execution_count": null,
   "id": "a1cd0fed",
   "metadata": {},
   "outputs": [],
   "source": [
    "fig = px.line(\n",
    "    data_frame=(\n",
    "        drug_related_deaths\n",
    "        .groupby(['time', 'race'], as_index=False)\n",
    "        .size()\n",
    "        .rename(columns={'size':'Number of Deaths'})\n",
    "    ),\n",
    "    x='time',\n",
    "    y='Number of Deaths',\n",
    "    color='race',\n",
    "    range_y=[0,6000]\n",
    ")\n",
    "fig.show()"
   ]
  },
  {
   "cell_type": "markdown",
   "id": "539ba971",
   "metadata": {},
   "source": [
    "### Proof of Concept: R Integration\n",
    "\n",
    "This section is ready to import Location Quotient scripts as soon as they're ready"
   ]
  },
  {
   "cell_type": "code",
   "execution_count": 26,
   "id": "680955ff",
   "metadata": {},
   "outputs": [],
   "source": [
    "%%R\n",
    "library(tidyverse)\n",
    "library(gridExtra)\n",
    "library(moments)"
   ]
  },
  {
   "cell_type": "code",
   "execution_count": 28,
   "id": "5a96ad09",
   "metadata": {},
   "outputs": [
    {
     "data": {
      "image/png": "[encoded data removed]"
     },
     "metadata": {},
     "output_type": "display_data"
    }
   ],
   "source": [
    "%%R\n",
    "df <- tibble(x = rnorm(100), y = rnorm(100), z = rep(c('a', 'b'), 50))\n",
    "ggplot(df) +\n",
    "    geom_point(aes(x, y, color = z))\n"
   ]
  }
 ],
 "metadata": {
  "kernelspec": {
   "display_name": "Python 3 (ipykernel)",
   "language": "python",
   "name": "python3"
  },
  "language_info": {
   "codemirror_mode": {
    "name": "ipython",
    "version": 3
   },
   "file_extension": ".py",
   "mimetype": "text/x-python",
   "name": "python",
   "nbconvert_exporter": "python",
   "pygments_lexer": "ipython3",
   "version": "3.10.2"
  }
 },
 "nbformat": 4,
 "nbformat_minor": 5
}
